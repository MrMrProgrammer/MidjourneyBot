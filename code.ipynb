{
 "cells": [
  {
   "cell_type": "code",
   "execution_count": 2,
   "id": "f6668f63c7ddb42b",
   "metadata": {
    "ExecuteTime": {
     "end_time": "2023-10-31T06:39:56.238824678Z",
     "start_time": "2023-10-31T06:39:56.111052399Z"
    },
    "collapsed": false
   },
   "outputs": [],
   "source": [
    "from selenium import webdriver\n",
    "from selenium.webdriver.common.by import By\n",
    "from selenium.webdriver.chrome.service import Service as ChromeService\n",
    "from webdriver_manager.chrome import ChromeDriverManager\n",
    "from time import sleep"
   ]
  },
  {
   "cell_type": "code",
   "execution_count": 3,
   "id": "7cb636e738c4ee2c",
   "metadata": {
    "ExecuteTime": {
     "end_time": "2023-10-31T06:39:56.245376423Z",
     "start_time": "2023-10-31T06:39:56.239170266Z"
    },
    "collapsed": false
   },
   "outputs": [],
   "source": [
    "username = 'mskhosh4@gmail.com'\n",
    "password = 'Dall12346'\n",
    "url = 'https://discord.com/login'"
   ]
  },
  {
   "cell_type": "code",
   "execution_count": null,
   "id": "87040840d5158e43",
   "metadata": {
    "ExecuteTime": {
     "end_time": "2023-10-31T06:48:30.714318765Z",
     "start_time": "2023-10-31T06:48:09.249547988Z"
    },
    "collapsed": false
   },
   "outputs": [],
   "source": [
    "from selenium.webdriver import Keys\n",
    "\n",
    "driver = webdriver.Chrome(service=ChromeService(ChromeDriverManager().install()))\n",
    "\n",
    "driver.get(url)\n",
    "\n",
    "driver.maximize_window()\n",
    "\n",
    "sleep(3)\n",
    "\n",
    "username_element = driver.find_element(By.ID, 'uid_5').send_keys(username)\n",
    "\n",
    "password_element = driver.find_element(By.ID, 'uid_7').send_keys(password)\n",
    "\n",
    "login_element = driver.find_element(By.CLASS_NAME, 'fullWidth__7c3e8').click()\n",
    "\n",
    "sleep(10)\n",
    "\n",
    "mid_icon = driver.find_element(By.CSS_SELECTOR, '#app-mount > div.appAsidePanelWrapper__714a6 > div.notAppAsidePanel__9d124 > div.app_b1f720 > div > div.layers__1c917.layers_a23c37 > div > div > nav > ul > div.scroller__3d071.none__51a8f.scrollerBase_dc3aa9 > div:nth-child(3) > div:nth-child(2) > div:nth-child(2) > div > div > svg > foreignObject > div').click()\n",
    "\n",
    "sleep(1)\n",
    "\n",
    "chat = driver.find_element(By.CSS_SELECTOR, '#channels > ul > li:nth-child(8) > div > div:nth-child(2) > a').click()\n",
    "\n",
    "input_message = driver.find_element(By.CSS_SELECTOR, '#app-mount > div.appAsidePanelWrapper__714a6 > div.notAppAsidePanel__9d124 > div.app_b1f720 > div > div.layers__1c917.layers_a23c37 > div > div > div > div > div.chat__52833 > div.content__1a4fe > div > div.chatContainer__23434 > main > form > div > div.scrollableContainer__33e06.themedBackground__6b1b6.webkit__8d35a > div > div.textArea__74543.textAreaSlate_e0e383.slateContainer_b692b3 > div > div.markup_a7e664.editor__66464.slateTextArea__0661c.fontSize16Padding__48818').send_keys('/imagine')\n",
    "\n",
    "sleep(3)\n",
    "\n",
    "select_imagine = driver.find_element(By.XPATH, '//*[@id=\"autocomplete-0\"]/div/div/div[2]/div[1]/div[2]').click()\n",
    "\n",
    "sleep(3)\n",
    "\n",
    "send_prompt = driver.find_element(By.XPATH, '//*[@id=\"app-mount\"]/div[2]/div[1]/div[1]/div/div[2]/div/div/div/div/div[2]/div/div/div[1]/main/form/div/div[2]/div/div[2]/div/div/div/span[2]/span[2]').send_keys('tehran in 2200')\n",
    "\n",
    "sleep(1)\n",
    "\n",
    "send_message = driver.find_element(By.CSS_SELECTOR, '#app-mount > div.appAsidePanelWrapper__714a6 > div.notAppAsidePanel__9d124 > div.app_b1f720 > div > div.layers__1c917.layers_a23c37 > div > div > div > div > div.chat__52833 > div.content__1a4fe > div > div.chatContainer__23434 > main > form > div > div.scrollableContainer__33e06.themedBackground__6b1b6.webkit__8d35a > div > div.textArea__74543.textAreaSlate_e0e383.slateContainer_b692b3 > div > div.markup_a7e664.editor__66464.slateTextArea__0661c.fontSize16Padding__48818').send_keys(Keys.RETURN)\n",
    "\n",
    "\n",
    "sleep(5)\n",
    "\n",
    "print('ok')\n",
    "\n",
    "# driver.quit()"
   ]
  }
 ],
 "metadata": {
  "kernelspec": {
   "display_name": "Python 3",
   "language": "python",
   "name": "python3"
  },
  "language_info": {
   "codemirror_mode": {
    "name": "ipython",
    "version": 3
   },
   "file_extension": ".py",
   "mimetype": "text/x-python",
   "name": "python",
   "nbconvert_exporter": "python",
   "pygments_lexer": "ipython3",
   "version": "3.10.12"
  }
 },
 "nbformat": 4,
 "nbformat_minor": 5
}
