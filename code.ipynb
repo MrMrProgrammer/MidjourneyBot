{
 "cells": [
  {
   "cell_type": "code",
   "execution_count": 22,
   "id": "f6668f63c7ddb42b",
   "metadata": {
    "collapsed": false,
    "ExecuteTime": {
     "end_time": "2023-10-31T10:42:07.145132437Z",
     "start_time": "2023-10-31T10:42:07.144226530Z"
    }
   },
   "outputs": [],
   "source": [
    "from selenium import webdriver\n",
    "from selenium.webdriver.common.by import By\n",
    "from selenium.webdriver.chrome.service import Service as ChromeService\n",
    "from webdriver_manager.chrome import ChromeDriverManager\n",
    "from time import sleep"
   ]
  },
  {
   "cell_type": "code",
   "execution_count": 23,
   "id": "7cb636e738c4ee2c",
   "metadata": {
    "collapsed": false,
    "ExecuteTime": {
     "end_time": "2023-10-31T10:42:07.894955806Z",
     "start_time": "2023-10-31T10:42:07.892714014Z"
    }
   },
   "outputs": [],
   "source": [
    "username = 'mskhosh4@gmail.com'\n",
    "password = 'Dall12346'\n",
    "url = 'https://discord.com/login'"
   ]
  },
  {
   "cell_type": "code",
   "execution_count": 24,
   "id": "87040840d5158e43",
   "metadata": {
    "collapsed": false,
    "ExecuteTime": {
     "end_time": "2023-10-31T10:42:35.196433148Z",
     "start_time": "2023-10-31T10:42:08.595961474Z"
    }
   },
   "outputs": [
    {
     "ename": "NoSuchElementException",
     "evalue": "Message: no such element: Unable to locate element: {\"method\":\"xpath\",\"selector\":\"//*[@id=\"message-accessories-1168833064785416223\"]/div[1]/div/div/div/div/div/a\"}\n  (Session info: chrome=118.0.5993.70); For documentation on this error, please visit: https://www.selenium.dev/documentation/webdriver/troubleshooting/errors#no-such-element-exception\nStacktrace:\n#0 0x55f321f98fb3 <unknown>\n#1 0x55f321c6c4a7 <unknown>\n#2 0x55f321cb3dd6 <unknown>\n#3 0x55f321cb3ec1 <unknown>\n#4 0x55f321cf1354 <unknown>\n#5 0x55f321cd596d <unknown>\n#6 0x55f321ceec02 <unknown>\n#7 0x55f321cd5713 <unknown>\n#8 0x55f321ca818b <unknown>\n#9 0x55f321ca8f7e <unknown>\n#10 0x55f321f5e8d8 <unknown>\n#11 0x55f321f62800 <unknown>\n#12 0x55f321f6ccfc <unknown>\n#13 0x55f321f63418 <unknown>\n#14 0x55f321f3042f <unknown>\n#15 0x55f321f874e8 <unknown>\n#16 0x55f321f876b4 <unknown>\n#17 0x55f321f98143 <unknown>\n#18 0x7fe7a1294ac3 <unknown>\n",
     "output_type": "error",
     "traceback": [
      "\u001B[0;31m---------------------------------------------------------------------------\u001B[0m",
      "\u001B[0;31mNoSuchElementException\u001B[0m                    Traceback (most recent call last)",
      "Cell \u001B[0;32mIn[24], line 41\u001B[0m\n\u001B[1;32m     37\u001B[0m sleep(\u001B[38;5;241m1\u001B[39m)\n\u001B[1;32m     39\u001B[0m send_message \u001B[38;5;241m=\u001B[39m driver\u001B[38;5;241m.\u001B[39mfind_element(By\u001B[38;5;241m.\u001B[39mCSS_SELECTOR, \u001B[38;5;124m'\u001B[39m\u001B[38;5;124m#app-mount > div.appAsidePanelWrapper__714a6 > div.notAppAsidePanel__9d124 > div.app_b1f720 > div > div.layers__1c917.layers_a23c37 > div > div > div > div > div.chat__52833 > div.content__1a4fe > div > div.chatContainer__23434 > main > form > div > div.scrollableContainer__33e06.themedBackground__6b1b6.webkit__8d35a > div > div.textArea__74543.textAreaSlate_e0e383.slateContainer_b692b3 > div > div.markup_a7e664.editor__66464.slateTextArea__0661c.fontSize16Padding__48818\u001B[39m\u001B[38;5;124m'\u001B[39m)\u001B[38;5;241m.\u001B[39msend_keys(Keys\u001B[38;5;241m.\u001B[39mRETURN)\n\u001B[0;32m---> 41\u001B[0m answer \u001B[38;5;241m=\u001B[39m \u001B[43mdriver\u001B[49m\u001B[38;5;241;43m.\u001B[39;49m\u001B[43mfind_element\u001B[49m\u001B[43m(\u001B[49m\u001B[43mBy\u001B[49m\u001B[38;5;241;43m.\u001B[39;49m\u001B[43mXPATH\u001B[49m\u001B[43m,\u001B[49m\u001B[43m \u001B[49m\u001B[38;5;124;43m'\u001B[39;49m\u001B[38;5;124;43m//*[@id=\u001B[39;49m\u001B[38;5;124;43m\"\u001B[39;49m\u001B[38;5;124;43mmessage-accessories-1168833064785416223\u001B[39;49m\u001B[38;5;124;43m\"\u001B[39;49m\u001B[38;5;124;43m]/div[1]/div/div/div/div/div/a\u001B[39;49m\u001B[38;5;124;43m'\u001B[39;49m\u001B[43m)\u001B[49m\u001B[38;5;241m.\u001B[39mget_attribute(\u001B[38;5;124m\"\u001B[39m\u001B[38;5;124msrc\u001B[39m\u001B[38;5;124m\"\u001B[39m)\n\u001B[1;32m     43\u001B[0m \u001B[38;5;28mprint\u001B[39m(answer)\n\u001B[1;32m     46\u001B[0m sleep(\u001B[38;5;241m5\u001B[39m)\n",
      "File \u001B[0;32m~/Desktop/Midjourney/venv/lib/python3.10/site-packages/selenium/webdriver/remote/webdriver.py:738\u001B[0m, in \u001B[0;36mWebDriver.find_element\u001B[0;34m(self, by, value)\u001B[0m\n\u001B[1;32m    735\u001B[0m     by \u001B[38;5;241m=\u001B[39m By\u001B[38;5;241m.\u001B[39mCSS_SELECTOR\n\u001B[1;32m    736\u001B[0m     value \u001B[38;5;241m=\u001B[39m \u001B[38;5;124mf\u001B[39m\u001B[38;5;124m'\u001B[39m\u001B[38;5;124m[name=\u001B[39m\u001B[38;5;124m\"\u001B[39m\u001B[38;5;132;01m{\u001B[39;00mvalue\u001B[38;5;132;01m}\u001B[39;00m\u001B[38;5;124m\"\u001B[39m\u001B[38;5;124m]\u001B[39m\u001B[38;5;124m'\u001B[39m\n\u001B[0;32m--> 738\u001B[0m \u001B[38;5;28;01mreturn\u001B[39;00m \u001B[38;5;28;43mself\u001B[39;49m\u001B[38;5;241;43m.\u001B[39;49m\u001B[43mexecute\u001B[49m\u001B[43m(\u001B[49m\u001B[43mCommand\u001B[49m\u001B[38;5;241;43m.\u001B[39;49m\u001B[43mFIND_ELEMENT\u001B[49m\u001B[43m,\u001B[49m\u001B[43m \u001B[49m\u001B[43m{\u001B[49m\u001B[38;5;124;43m\"\u001B[39;49m\u001B[38;5;124;43musing\u001B[39;49m\u001B[38;5;124;43m\"\u001B[39;49m\u001B[43m:\u001B[49m\u001B[43m \u001B[49m\u001B[43mby\u001B[49m\u001B[43m,\u001B[49m\u001B[43m \u001B[49m\u001B[38;5;124;43m\"\u001B[39;49m\u001B[38;5;124;43mvalue\u001B[39;49m\u001B[38;5;124;43m\"\u001B[39;49m\u001B[43m:\u001B[49m\u001B[43m \u001B[49m\u001B[43mvalue\u001B[49m\u001B[43m}\u001B[49m\u001B[43m)\u001B[49m[\u001B[38;5;124m\"\u001B[39m\u001B[38;5;124mvalue\u001B[39m\u001B[38;5;124m\"\u001B[39m]\n",
      "File \u001B[0;32m~/Desktop/Midjourney/venv/lib/python3.10/site-packages/selenium/webdriver/remote/webdriver.py:344\u001B[0m, in \u001B[0;36mWebDriver.execute\u001B[0;34m(self, driver_command, params)\u001B[0m\n\u001B[1;32m    342\u001B[0m response \u001B[38;5;241m=\u001B[39m \u001B[38;5;28mself\u001B[39m\u001B[38;5;241m.\u001B[39mcommand_executor\u001B[38;5;241m.\u001B[39mexecute(driver_command, params)\n\u001B[1;32m    343\u001B[0m \u001B[38;5;28;01mif\u001B[39;00m response:\n\u001B[0;32m--> 344\u001B[0m     \u001B[38;5;28;43mself\u001B[39;49m\u001B[38;5;241;43m.\u001B[39;49m\u001B[43merror_handler\u001B[49m\u001B[38;5;241;43m.\u001B[39;49m\u001B[43mcheck_response\u001B[49m\u001B[43m(\u001B[49m\u001B[43mresponse\u001B[49m\u001B[43m)\u001B[49m\n\u001B[1;32m    345\u001B[0m     response[\u001B[38;5;124m\"\u001B[39m\u001B[38;5;124mvalue\u001B[39m\u001B[38;5;124m\"\u001B[39m] \u001B[38;5;241m=\u001B[39m \u001B[38;5;28mself\u001B[39m\u001B[38;5;241m.\u001B[39m_unwrap_value(response\u001B[38;5;241m.\u001B[39mget(\u001B[38;5;124m\"\u001B[39m\u001B[38;5;124mvalue\u001B[39m\u001B[38;5;124m\"\u001B[39m, \u001B[38;5;28;01mNone\u001B[39;00m))\n\u001B[1;32m    346\u001B[0m     \u001B[38;5;28;01mreturn\u001B[39;00m response\n",
      "File \u001B[0;32m~/Desktop/Midjourney/venv/lib/python3.10/site-packages/selenium/webdriver/remote/errorhandler.py:229\u001B[0m, in \u001B[0;36mErrorHandler.check_response\u001B[0;34m(self, response)\u001B[0m\n\u001B[1;32m    227\u001B[0m         alert_text \u001B[38;5;241m=\u001B[39m value[\u001B[38;5;124m\"\u001B[39m\u001B[38;5;124malert\u001B[39m\u001B[38;5;124m\"\u001B[39m]\u001B[38;5;241m.\u001B[39mget(\u001B[38;5;124m\"\u001B[39m\u001B[38;5;124mtext\u001B[39m\u001B[38;5;124m\"\u001B[39m)\n\u001B[1;32m    228\u001B[0m     \u001B[38;5;28;01mraise\u001B[39;00m exception_class(message, screen, stacktrace, alert_text)  \u001B[38;5;66;03m# type: ignore[call-arg]  # mypy is not smart enough here\u001B[39;00m\n\u001B[0;32m--> 229\u001B[0m \u001B[38;5;28;01mraise\u001B[39;00m exception_class(message, screen, stacktrace)\n",
      "\u001B[0;31mNoSuchElementException\u001B[0m: Message: no such element: Unable to locate element: {\"method\":\"xpath\",\"selector\":\"//*[@id=\"message-accessories-1168833064785416223\"]/div[1]/div/div/div/div/div/a\"}\n  (Session info: chrome=118.0.5993.70); For documentation on this error, please visit: https://www.selenium.dev/documentation/webdriver/troubleshooting/errors#no-such-element-exception\nStacktrace:\n#0 0x55f321f98fb3 <unknown>\n#1 0x55f321c6c4a7 <unknown>\n#2 0x55f321cb3dd6 <unknown>\n#3 0x55f321cb3ec1 <unknown>\n#4 0x55f321cf1354 <unknown>\n#5 0x55f321cd596d <unknown>\n#6 0x55f321ceec02 <unknown>\n#7 0x55f321cd5713 <unknown>\n#8 0x55f321ca818b <unknown>\n#9 0x55f321ca8f7e <unknown>\n#10 0x55f321f5e8d8 <unknown>\n#11 0x55f321f62800 <unknown>\n#12 0x55f321f6ccfc <unknown>\n#13 0x55f321f63418 <unknown>\n#14 0x55f321f3042f <unknown>\n#15 0x55f321f874e8 <unknown>\n#16 0x55f321f876b4 <unknown>\n#17 0x55f321f98143 <unknown>\n#18 0x7fe7a1294ac3 <unknown>\n"
     ]
    }
   ],
   "source": [
    "from selenium.webdriver import Keys\n",
    "\n",
    "driver = webdriver.Chrome(service=ChromeService(ChromeDriverManager().install()))\n",
    "\n",
    "driver.get(url)\n",
    "\n",
    "driver.maximize_window()\n",
    "\n",
    "sleep(3)\n",
    "\n",
    "username_element = driver.find_element(By.ID, 'uid_5').send_keys(username)\n",
    "\n",
    "password_element = driver.find_element(By.ID, 'uid_7').send_keys(password)\n",
    "\n",
    "login_element = driver.find_element(By.CLASS_NAME, 'fullWidth__7c3e8').click()\n",
    "\n",
    "sleep(10)\n",
    "\n",
    "mid_icon = driver.find_element(By.CSS_SELECTOR, '#app-mount > div.appAsidePanelWrapper__714a6 > div.notAppAsidePanel__9d124 > div.app_b1f720 > div > div.layers__1c917.layers_a23c37 > div > div > nav > ul > div.scroller__3d071.none__51a8f.scrollerBase_dc3aa9 > div:nth-child(3) > div:nth-child(2) > div:nth-child(2) > div > div > svg > foreignObject > div').click()\n",
    "\n",
    "sleep(1)\n",
    "\n",
    "# chat = driver.find_element(By.CSS_SELECTOR, '#channels > ul > li:nth-child(8) > div > div:nth-child(2) > a').click()\n",
    "chat = driver.find_element(By.XPATH, '//*[@id=\"channels\"]/ul/li[5]/div/div/a').click()\n",
    "\n",
    "\n",
    "input_message = driver.find_element(By.CSS_SELECTOR, '#app-mount > div.appAsidePanelWrapper__714a6 > div.notAppAsidePanel__9d124 > div.app_b1f720 > div > div.layers__1c917.layers_a23c37 > div > div > div > div > div.chat__52833 > div.content__1a4fe > div > div.chatContainer__23434 > main > form > div > div.scrollableContainer__33e06.themedBackground__6b1b6.webkit__8d35a > div > div.textArea__74543.textAreaSlate_e0e383.slateContainer_b692b3 > div > div.markup_a7e664.editor__66464.slateTextArea__0661c.fontSize16Padding__48818').send_keys('/imagine')\n",
    "\n",
    "sleep(3)\n",
    "\n",
    "select_imagine = driver.find_element(By.XPATH, '//*[@id=\"autocomplete-0\"]/div/div/div[2]/div[1]/div[2]').click()\n",
    "\n",
    "sleep(3)\n",
    "\n",
    "send_prompt = driver.find_element(By.XPATH, '//*[@id=\"app-mount\"]/div[2]/div[1]/div[1]/div/div[2]/div/div/div/div/div[2]/div/div/div[1]/main/form/div/div[2]/div/div[2]/div/div/div/span[2]/span[2]').send_keys('tehran in 2200')\n",
    "\n",
    "sleep(1)\n",
    "\n",
    "send_message = driver.find_element(By.CSS_SELECTOR, '#app-mount > div.appAsidePanelWrapper__714a6 > div.notAppAsidePanel__9d124 > div.app_b1f720 > div > div.layers__1c917.layers_a23c37 > div > div > div > div > div.chat__52833 > div.content__1a4fe > div > div.chatContainer__23434 > main > form > div > div.scrollableContainer__33e06.themedBackground__6b1b6.webkit__8d35a > div > div.textArea__74543.textAreaSlate_e0e383.slateContainer_b692b3 > div > div.markup_a7e664.editor__66464.slateTextArea__0661c.fontSize16Padding__48818').send_keys(Keys.RETURN)\n",
    "\n",
    "answer = driver.find_element(By.XPATH, '//*[@id=\"message-accessories-1168833064785416223\"]/div[1]/div/div/div/div/div/a').get_attribute(\"src\")\n",
    "\n",
    "print(answer)\n",
    "\n",
    "\n",
    "sleep(5)\n",
    "\n",
    "print('ok')\n",
    "\n",
    "sleep(30)\n",
    "\n",
    "driver.quit()"
   ]
  },
  {
   "cell_type": "code",
   "execution_count": null,
   "outputs": [],
   "source": [],
   "metadata": {
    "collapsed": false
   },
   "id": "70f82fec1b019e8f"
  }
 ],
 "metadata": {
  "kernelspec": {
   "display_name": "Python 3",
   "language": "python",
   "name": "python3"
  },
  "language_info": {
   "codemirror_mode": {
    "name": "ipython",
    "version": 3
   },
   "file_extension": ".py",
   "mimetype": "text/x-python",
   "name": "python",
   "nbconvert_exporter": "python",
   "pygments_lexer": "ipython3",
   "version": "3.10.12"
  }
 },
 "nbformat": 4,
 "nbformat_minor": 5
}
