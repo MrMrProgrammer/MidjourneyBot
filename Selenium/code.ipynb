{
 "cells": [
  {
   "cell_type": "code",
   "execution_count": 4,
   "id": "f6668f63c7ddb42b",
   "metadata": {
    "collapsed": false,
    "ExecuteTime": {
     "end_time": "2023-11-05T11:10:02.531534062Z",
     "start_time": "2023-11-05T11:10:02.489571188Z"
    }
   },
   "outputs": [],
   "source": [
    "from selenium import webdriver\n",
    "from selenium.webdriver.common.by import By\n",
    "from selenium.webdriver.chrome.service import Service as ChromeService\n",
    "from webdriver_manager.chrome import ChromeDriverManager\n",
    "from time import sleep\n",
    "from selenium.webdriver import Keys"
   ]
  },
  {
   "cell_type": "code",
   "execution_count": 5,
   "id": "7cb636e738c4ee2c",
   "metadata": {
    "collapsed": false,
    "ExecuteTime": {
     "end_time": "2023-11-05T11:10:02.732636967Z",
     "start_time": "2023-11-05T11:10:02.726918591Z"
    }
   },
   "outputs": [],
   "source": [
    "username = 'mskhosh4@gmail.com'\n",
    "password = 'Dall12346'\n",
    "url = 'https://discord.com/login'"
   ]
  },
  {
   "cell_type": "code",
   "execution_count": 31,
   "id": "87040840d5158e43",
   "metadata": {
    "collapsed": false,
    "ExecuteTime": {
     "end_time": "2023-11-05T12:44:53.077372682Z",
     "start_time": "2023-11-05T12:43:43.984828127Z"
    }
   },
   "outputs": [
    {
     "name": "stdout",
     "output_type": "stream",
     "text": [
      "You are logged in.\n",
      "==========================================\n",
      "You have entered the midjorney chat.\n",
      "==========================================\n",
      "Image Link : https://cdn.discordapp.com/attachments/990816806581198869/1170705143029833728/TOR_Hunnic_Empire._modern._army._asian._rocket._rpg7._real._mod_3dcc5b52-a00b-4d7a-9330-41ed3ff9edaa.png?ex=655a0320&is=65478e20&hm=6a8f6830e1d2c18144123a8b3151b6c82a6b570e1735b1ae85f34509f37ba672&\n",
      "\n",
      "........................\n",
      "U1\n",
      "U2\n",
      "U3\n",
      "U4\n",
      "\n",
      "V1\n",
      "V2\n",
      "V3\n",
      "V4\n",
      "\n",
      "====================ok====================\n"
     ]
    }
   ],
   "source": [
    "from bs4 import BeautifulSoup\n",
    "\n",
    "driver = webdriver.Chrome(service=ChromeService(ChromeDriverManager().install()))\n",
    "\n",
    "driver.get(url)\n",
    "\n",
    "driver.maximize_window()\n",
    "\n",
    "sleep(3)\n",
    "\n",
    "username_element = driver.find_element(By.ID, 'uid_5').send_keys(username)\n",
    "\n",
    "password_element = driver.find_element(By.ID, 'uid_7').send_keys(password)\n",
    "\n",
    "login_element = driver.find_element(By.CLASS_NAME, 'fullWidth__7c3e8').click()\n",
    "\n",
    "print('You are logged in.\\n==========================================')\n",
    "\n",
    "sleep(10)\n",
    "\n",
    "mid_icon = driver.find_element(By.CSS_SELECTOR,\n",
    "                               '#app-mount > div.appAsidePanelWrapper__714a6 > div.notAppAsidePanel__9d124 > div.app_b1f720 > div > div.layers__1c917.layers_a23c37 > div > div > nav > ul > div.scroller__3d071.none__51a8f.scrollerBase_dc3aa9 > div:nth-child(3) > div:nth-child(2) > div:nth-child(2) > div > div > svg > foreignObject > div').click()\n",
    "\n",
    "sleep(1)\n",
    "\n",
    "# chat = driver.find_element(By.CSS_SELECTOR, '#channels > ul > li:nth-child(8) > div > div:nth-child(2) > a').click()\n",
    "chat = driver.find_element(By.XPATH, '//*[@id=\"channels\"]/ul/li[5]/div/div/a').click()\n",
    "\n",
    "print('You have entered the midjorney chat.\\n==========================================')\n",
    "\n",
    "# input_message = driver.find_element(By.CSS_SELECTOR, '#app-mount > div.appAsidePanelWrapper__714a6 > div.notAppAsidePanel__9d124 > div.app_b1f720 > div > div.layers__1c917.layers_a23c37 > div > div > div > div > div.chat__52833 > div.content__1a4fe > div > div.chatContainer__23434 > main > form > div > div.scrollableContainer__33e06.themedBackground__6b1b6.webkit__8d35a > div > div.textArea__74543.textAreaSlate_e0e383.slateContainer_b692b3 > div > div.markup_a7e664.editor__66464.slateTextArea__0661c.fontSize16Padding__48818').send_keys('/imagine')\n",
    "\n",
    "# sleep(3)\n",
    "\n",
    "# select_imagine = driver.find_element(By.XPATH, '//*[@id=\"autocomplete-0\"]/div/div/div[2]/div[1]/div[2]').click()\n",
    "\n",
    "# sleep(3)\n",
    "\n",
    "# send_prompt = driver.find_element(By.XPATH, '//*[@id=\"app-mount\"]/div[2]/div[1]/div[1]/div/div[2]/div/div/div/div/div[2]/div/div/div[1]/main/form/div/div[2]/div/div[2]/div/div/div/span[2]/span[2]').send_keys('tehran in 2200')\n",
    "\n",
    "# sleep(1)\n",
    "\n",
    "# send_message = driver.find_element(By.CSS_SELECTOR, '#app-mount > div.appAsidePanelWrapper__714a6 > div.notAppAsidePanel__9d124 > div.app_b1f720 > div > div.layers__1c917.layers_a23c37 > div > div > div > div > div.chat__52833 > div.content__1a4fe > div > div.chatContainer__23434 > main > form > div > div.scrollableContainer__33e06.themedBackground__6b1b6.webkit__8d35a > div > div.textArea__74543.textAreaSlate_e0e383.slateContainer_b692b3 > div > div.markup_a7e664.editor__66464.slateTextArea__0661c.fontSize16Padding__48818').send_keys(Keys.RETURN)\n",
    "\n",
    "# =================================================================================================\n",
    "\n",
    "# ol_tag = driver.find_element(By.CLASS_NAME, 'scrollerInner__059a5')\n",
    "# \n",
    "# print(ol_tag.tag_name)\n",
    "# \n",
    "# sleep(10)\n",
    "# \n",
    "# li_tags = ol_tag.find_elements(By.CLASS_NAME, 'messageListItem__6a4fb')\n",
    "# \n",
    "# print(li_tags[-1].tag_name)\n",
    "# print(li_tags[-1].find_element(By.TAG_NAME, 'a'))\n",
    "# \n",
    "# print(\".........................................\")\n",
    "# \n",
    "# btns = 10\n",
    "\n",
    "\n",
    "# =================================================================================================\n",
    "\n",
    "ol_tag = driver.find_element(By.CLASS_NAME, 'scrollerInner__059a5')\n",
    "\n",
    "sleep(10)\n",
    "\n",
    "li_tags = ol_tag.find_elements(By.CLASS_NAME, 'messageListItem__6a4fb')\n",
    "\n",
    "last_ms = li_tags[-1]\n",
    "\n",
    "img = last_ms.find_element(By.TAG_NAME, 'a')\n",
    "\n",
    "img_link = img.get_attribute('href')\n",
    "\n",
    "print(f\"Image Link : {img_link}\\n\\n........................\")\n",
    "\n",
    "btns = last_ms.find_elements(By.TAG_NAME, 'button')\n",
    "\n",
    "for btn in btns:\n",
    "    print(btn.text)\n",
    "    \n",
    "# btns[0].click()\n",
    "driver.execute_script(\"arguments[0].click();\", btns[0])\n",
    "\n",
    "# =================================================================================================\n",
    "\n",
    "sleep(5)\n",
    "\n",
    "print('\\n====================ok====================')\n",
    "\n",
    "sleep(30)\n",
    "\n",
    "\n",
    "\n",
    "# driver.quit()"
   ]
  },
  {
   "cell_type": "code",
   "execution_count": null,
   "outputs": [],
   "source": [],
   "metadata": {
    "collapsed": false
   },
   "id": "5e7bc4c66c69bc59"
  }
 ],
 "metadata": {
  "kernelspec": {
   "display_name": "Python 3",
   "language": "python",
   "name": "python3"
  },
  "language_info": {
   "codemirror_mode": {
    "name": "ipython",
    "version": 3
   },
   "file_extension": ".py",
   "mimetype": "text/x-python",
   "name": "python",
   "nbconvert_exporter": "python",
   "pygments_lexer": "ipython3",
   "version": "3.10.12"
  }
 },
 "nbformat": 4,
 "nbformat_minor": 5
}
